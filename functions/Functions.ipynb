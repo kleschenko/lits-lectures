{
 "cells": [
  {
   "cell_type": "code",
   "execution_count": 1,
   "metadata": {
    "collapsed": true
   },
   "outputs": [],
   "source": [
    "def get_apples():\n",
    "    print('apples')"
   ]
  },
  {
   "cell_type": "code",
   "execution_count": 2,
   "metadata": {
    "collapsed": false
   },
   "outputs": [
    {
     "name": "stdout",
     "output_type": "stream",
     "text": [
      "apples\n"
     ]
    }
   ],
   "source": [
    "get_apples()"
   ]
  },
  {
   "cell_type": "code",
   "execution_count": 3,
   "metadata": {
    "collapsed": true
   },
   "outputs": [],
   "source": [
    "def get_apples():\n",
    "    return ['apple1', 'apple2', 'apple3']"
   ]
  },
  {
   "cell_type": "code",
   "execution_count": 4,
   "metadata": {
    "collapsed": false
   },
   "outputs": [
    {
     "data": {
      "text/plain": [
       "['apple1', 'apple2', 'apple3']"
      ]
     },
     "execution_count": 4,
     "metadata": {},
     "output_type": "execute_result"
    }
   ],
   "source": [
    "get_apples()"
   ]
  },
  {
   "cell_type": "code",
   "execution_count": 5,
   "metadata": {
    "collapsed": true
   },
   "outputs": [],
   "source": [
    "apples = get_apples()"
   ]
  },
  {
   "cell_type": "code",
   "execution_count": 6,
   "metadata": {
    "collapsed": false
   },
   "outputs": [
    {
     "name": "stdout",
     "output_type": "stream",
     "text": [
      "['apple1', 'apple2', 'apple3']\n"
     ]
    }
   ],
   "source": [
    "print(apples)"
   ]
  },
  {
   "cell_type": "code",
   "execution_count": 7,
   "metadata": {
    "collapsed": true
   },
   "outputs": [],
   "source": [
    "def get_apples(n):\n",
    "    return ['apple'] * n"
   ]
  },
  {
   "cell_type": "code",
   "execution_count": 8,
   "metadata": {
    "collapsed": false
   },
   "outputs": [
    {
     "ename": "TypeError",
     "evalue": "get_apples() missing 1 required positional argument: 'n'",
     "output_type": "error",
     "traceback": [
      "\u001b[0;31m---------------------------------------------------------------------------\u001b[0m",
      "\u001b[0;31mTypeError\u001b[0m                                 Traceback (most recent call last)",
      "\u001b[0;32m<ipython-input-8-808bddc57158>\u001b[0m in \u001b[0;36m<module>\u001b[0;34m()\u001b[0m\n\u001b[0;32m----> 1\u001b[0;31m \u001b[0mget_apples\u001b[0m\u001b[0;34m(\u001b[0m\u001b[0;34m)\u001b[0m\u001b[0;34m\u001b[0m\u001b[0m\n\u001b[0m",
      "\u001b[0;31mTypeError\u001b[0m: get_apples() missing 1 required positional argument: 'n'"
     ]
    }
   ],
   "source": [
    "get_apples()"
   ]
  },
  {
   "cell_type": "code",
   "execution_count": 9,
   "metadata": {
    "collapsed": false
   },
   "outputs": [
    {
     "data": {
      "text/plain": [
       "['apple', 'apple', 'apple', 'apple', 'apple']"
      ]
     },
     "execution_count": 9,
     "metadata": {},
     "output_type": "execute_result"
    }
   ],
   "source": [
    "get_apples(5)"
   ]
  },
  {
   "cell_type": "code",
   "execution_count": 10,
   "metadata": {
    "collapsed": true
   },
   "outputs": [],
   "source": [
    "def get_apples(n, fruit=None):\n",
    "    return [fruit] * n"
   ]
  },
  {
   "cell_type": "code",
   "execution_count": 11,
   "metadata": {
    "collapsed": false
   },
   "outputs": [
    {
     "data": {
      "text/plain": [
       "[None, None, None, None, None]"
      ]
     },
     "execution_count": 11,
     "metadata": {},
     "output_type": "execute_result"
    }
   ],
   "source": [
    "get_apples(5)"
   ]
  },
  {
   "cell_type": "code",
   "execution_count": 12,
   "metadata": {
    "collapsed": true
   },
   "outputs": [],
   "source": [
    "def get_apples(n, fruit='apple'):\n",
    "    return [fruit] * n"
   ]
  },
  {
   "cell_type": "code",
   "execution_count": 14,
   "metadata": {
    "collapsed": false
   },
   "outputs": [
    {
     "data": {
      "text/plain": [
       "['apple', 'apple', 'apple', 'apple', 'apple']"
      ]
     },
     "execution_count": 14,
     "metadata": {},
     "output_type": "execute_result"
    }
   ],
   "source": [
    "get_apples(5)"
   ]
  },
  {
   "cell_type": "code",
   "execution_count": 15,
   "metadata": {
    "collapsed": false
   },
   "outputs": [
    {
     "data": {
      "text/plain": [
       "['ananas', 'ananas', 'ananas', 'ananas', 'ananas']"
      ]
     },
     "execution_count": 15,
     "metadata": {},
     "output_type": "execute_result"
    }
   ],
   "source": [
    "get_apples(5, 'ananas')"
   ]
  },
  {
   "cell_type": "code",
   "execution_count": 16,
   "metadata": {
    "collapsed": true
   },
   "outputs": [],
   "source": [
    "def get_apples():\n",
    "    print('apple')"
   ]
  },
  {
   "cell_type": "code",
   "execution_count": 17,
   "metadata": {
    "collapsed": false
   },
   "outputs": [
    {
     "name": "stdout",
     "output_type": "stream",
     "text": [
      "apple\n"
     ]
    }
   ],
   "source": [
    "get_apples()"
   ]
  },
  {
   "cell_type": "code",
   "execution_count": 18,
   "metadata": {
    "collapsed": false
   },
   "outputs": [
    {
     "name": "stdout",
     "output_type": "stream",
     "text": [
      "apple\n"
     ]
    }
   ],
   "source": [
    "apple = get_apples()"
   ]
  },
  {
   "cell_type": "code",
   "execution_count": 19,
   "metadata": {
    "collapsed": true
   },
   "outputs": [],
   "source": [
    "apple"
   ]
  },
  {
   "cell_type": "code",
   "execution_count": 20,
   "metadata": {
    "collapsed": false
   },
   "outputs": [
    {
     "name": "stdout",
     "output_type": "stream",
     "text": [
      "None\n"
     ]
    }
   ],
   "source": [
    "print(apple)"
   ]
  },
  {
   "cell_type": "code",
   "execution_count": 29,
   "metadata": {
    "collapsed": true
   },
   "outputs": [],
   "source": [
    "def count_cats(n):\n",
    "    i = 0\n",
    "    while i <= n:\n",
    "        print('cat #' + str(i))\n",
    "        i += 1"
   ]
  },
  {
   "cell_type": "code",
   "execution_count": 30,
   "metadata": {
    "collapsed": false
   },
   "outputs": [
    {
     "name": "stdout",
     "output_type": "stream",
     "text": [
      "cat #0\n",
      "cat #1\n",
      "cat #2\n",
      "cat #3\n",
      "cat #4\n",
      "cat #5\n"
     ]
    }
   ],
   "source": [
    "count_cats(5)"
   ]
  },
  {
   "cell_type": "code",
   "execution_count": 31,
   "metadata": {
    "collapsed": false
   },
   "outputs": [
    {
     "name": "stdout",
     "output_type": "stream",
     "text": [
      "cat #0\n",
      "cat #1\n",
      "cat #2\n",
      "cat #3\n",
      "cat #4\n",
      "cat #5\n",
      "cat #6\n",
      "cat #7\n",
      "cat #8\n",
      "cat #9\n",
      "cat #10\n"
     ]
    }
   ],
   "source": [
    "count_cats(10)"
   ]
  },
  {
   "cell_type": "code",
   "execution_count": 32,
   "metadata": {
    "collapsed": true
   },
   "outputs": [],
   "source": [
    "def get_apples(n, fruit='apple'):\n",
    "    return [fruit] * n"
   ]
  },
  {
   "cell_type": "code",
   "execution_count": 33,
   "metadata": {
    "collapsed": true
   },
   "outputs": [],
   "source": [
    "def put_in_boxes(n):\n",
    "    boxes = []\n",
    "    for i in range(n):\n",
    "        apples = get_apples(5)\n",
    "        boxes.append(apples)\n",
    "    return boxes"
   ]
  },
  {
   "cell_type": "code",
   "execution_count": 34,
   "metadata": {
    "collapsed": false
   },
   "outputs": [
    {
     "data": {
      "text/plain": [
       "[['apple', 'apple', 'apple', 'apple', 'apple'],\n",
       " ['apple', 'apple', 'apple', 'apple', 'apple'],\n",
       " ['apple', 'apple', 'apple', 'apple', 'apple'],\n",
       " ['apple', 'apple', 'apple', 'apple', 'apple']]"
      ]
     },
     "execution_count": 34,
     "metadata": {},
     "output_type": "execute_result"
    }
   ],
   "source": [
    "put_in_boxes(4)"
   ]
  },
  {
   "cell_type": "code",
   "execution_count": 35,
   "metadata": {
    "collapsed": false
   },
   "outputs": [
    {
     "ename": "NameError",
     "evalue": "name 'boxes' is not defined",
     "output_type": "error",
     "traceback": [
      "\u001b[0;31m---------------------------------------------------------------------------\u001b[0m",
      "\u001b[0;31mNameError\u001b[0m                                 Traceback (most recent call last)",
      "\u001b[0;32m<ipython-input-35-781bed523594>\u001b[0m in \u001b[0;36m<module>\u001b[0;34m()\u001b[0m\n\u001b[0;32m----> 1\u001b[0;31m \u001b[0mprint\u001b[0m\u001b[0;34m(\u001b[0m\u001b[0mboxes\u001b[0m\u001b[0;34m)\u001b[0m\u001b[0;34m\u001b[0m\u001b[0m\n\u001b[0m",
      "\u001b[0;31mNameError\u001b[0m: name 'boxes' is not defined"
     ]
    }
   ],
   "source": [
    "print(boxes)"
   ]
  },
  {
   "cell_type": "code",
   "execution_count": 36,
   "metadata": {
    "collapsed": true
   },
   "outputs": [],
   "source": [
    "def apple_scope():\n",
    "    print(apple)"
   ]
  },
  {
   "cell_type": "code",
   "execution_count": 37,
   "metadata": {
    "collapsed": false
   },
   "outputs": [
    {
     "name": "stdout",
     "output_type": "stream",
     "text": [
      "None\n"
     ]
    }
   ],
   "source": [
    "apple_scope()"
   ]
  },
  {
   "cell_type": "code",
   "execution_count": 38,
   "metadata": {
    "collapsed": false
   },
   "outputs": [
    {
     "name": "stdout",
     "output_type": "stream",
     "text": [
      "None\n"
     ]
    }
   ],
   "source": [
    "print(apple)"
   ]
  },
  {
   "cell_type": "code",
   "execution_count": 39,
   "metadata": {
    "collapsed": true
   },
   "outputs": [],
   "source": [
    "apple = 'apple'"
   ]
  },
  {
   "cell_type": "code",
   "execution_count": 40,
   "metadata": {
    "collapsed": false
   },
   "outputs": [
    {
     "name": "stdout",
     "output_type": "stream",
     "text": [
      "apple\n"
     ]
    }
   ],
   "source": [
    "apple_scope()"
   ]
  },
  {
   "cell_type": "code",
   "execution_count": 42,
   "metadata": {
    "collapsed": false
   },
   "outputs": [],
   "source": [
    "def new_apple():\n",
    "    apple = 'ananas'\n",
    "    print(apple)"
   ]
  },
  {
   "cell_type": "code",
   "execution_count": 43,
   "metadata": {
    "collapsed": false
   },
   "outputs": [
    {
     "name": "stdout",
     "output_type": "stream",
     "text": [
      "apple\n"
     ]
    }
   ],
   "source": [
    "print(apple)"
   ]
  },
  {
   "cell_type": "code",
   "execution_count": 44,
   "metadata": {
    "collapsed": false
   },
   "outputs": [
    {
     "name": "stdout",
     "output_type": "stream",
     "text": [
      "ananas\n"
     ]
    }
   ],
   "source": [
    "new_apple()"
   ]
  },
  {
   "cell_type": "code",
   "execution_count": 45,
   "metadata": {
    "collapsed": false
   },
   "outputs": [
    {
     "name": "stdout",
     "output_type": "stream",
     "text": [
      "apple\n"
     ]
    }
   ],
   "source": [
    "print(apple)"
   ]
  },
  {
   "cell_type": "code",
   "execution_count": 46,
   "metadata": {
    "collapsed": true
   },
   "outputs": [],
   "source": [
    "def bad_new_apple():\n",
    "    global apple\n",
    "    apple = 'ananas'\n",
    "    print(apple)"
   ]
  },
  {
   "cell_type": "code",
   "execution_count": 47,
   "metadata": {
    "collapsed": false
   },
   "outputs": [
    {
     "name": "stdout",
     "output_type": "stream",
     "text": [
      "ananas\n"
     ]
    }
   ],
   "source": [
    "bad_new_apple()"
   ]
  },
  {
   "cell_type": "code",
   "execution_count": 48,
   "metadata": {
    "collapsed": false
   },
   "outputs": [
    {
     "name": "stdout",
     "output_type": "stream",
     "text": [
      "ananas\n"
     ]
    }
   ],
   "source": [
    "print(apple)"
   ]
  },
  {
   "cell_type": "code",
   "execution_count": 51,
   "metadata": {
    "collapsed": true
   },
   "outputs": [],
   "source": [
    "def get_boxes(n):\n",
    "    boxes = []\n",
    "    \n",
    "    def get_objects(some_object, m):\n",
    "        return [some_object] * m\n",
    "    for i in range(n):\n",
    "        boxes.append(get_objects('apple', 5))\n",
    "    return boxes"
   ]
  },
  {
   "cell_type": "code",
   "execution_count": 52,
   "metadata": {
    "collapsed": false
   },
   "outputs": [
    {
     "data": {
      "text/plain": [
       "[['apple', 'apple', 'apple', 'apple', 'apple'],\n",
       " ['apple', 'apple', 'apple', 'apple', 'apple'],\n",
       " ['apple', 'apple', 'apple', 'apple', 'apple'],\n",
       " ['apple', 'apple', 'apple', 'apple', 'apple'],\n",
       " ['apple', 'apple', 'apple', 'apple', 'apple']]"
      ]
     },
     "execution_count": 52,
     "metadata": {},
     "output_type": "execute_result"
    }
   ],
   "source": [
    "get_boxes(5)"
   ]
  },
  {
   "cell_type": "code",
   "execution_count": 53,
   "metadata": {
    "collapsed": false
   },
   "outputs": [
    {
     "ename": "NameError",
     "evalue": "name 'get_objects' is not defined",
     "output_type": "error",
     "traceback": [
      "\u001b[0;31m---------------------------------------------------------------------------\u001b[0m",
      "\u001b[0;31mNameError\u001b[0m                                 Traceback (most recent call last)",
      "\u001b[0;32m<ipython-input-53-aee53cc38fb7>\u001b[0m in \u001b[0;36m<module>\u001b[0;34m()\u001b[0m\n\u001b[0;32m----> 1\u001b[0;31m \u001b[0mget_objects\u001b[0m\u001b[0;34m(\u001b[0m\u001b[0;34m'apple'\u001b[0m\u001b[0;34m,\u001b[0m \u001b[0;36m4\u001b[0m\u001b[0;34m)\u001b[0m\u001b[0;34m\u001b[0m\u001b[0m\n\u001b[0m",
      "\u001b[0;31mNameError\u001b[0m: name 'get_objects' is not defined"
     ]
    }
   ],
   "source": [
    "get_objects('apple', 4)"
   ]
  },
  {
   "cell_type": "code",
   "execution_count": 54,
   "metadata": {
    "collapsed": false
   },
   "outputs": [
    {
     "ename": "NameError",
     "evalue": "name 'boxes' is not defined",
     "output_type": "error",
     "traceback": [
      "\u001b[0;31m---------------------------------------------------------------------------\u001b[0m",
      "\u001b[0;31mNameError\u001b[0m                                 Traceback (most recent call last)",
      "\u001b[0;32m<ipython-input-54-167b716a9920>\u001b[0m in \u001b[0;36m<module>\u001b[0;34m()\u001b[0m\n\u001b[0;32m----> 1\u001b[0;31m \u001b[0mboxes\u001b[0m\u001b[0;34m\u001b[0m\u001b[0m\n\u001b[0m",
      "\u001b[0;31mNameError\u001b[0m: name 'boxes' is not defined"
     ]
    }
   ],
   "source": [
    "boxes"
   ]
  },
  {
   "cell_type": "code",
   "execution_count": 55,
   "metadata": {
    "collapsed": true
   },
   "outputs": [],
   "source": [
    "def get_direction(direction):\n",
    "    if direction == 0:\n",
    "        return 'left'\n",
    "    elif direction == 1:\n",
    "        return 'center'\n",
    "    else:\n",
    "        return 'right'"
   ]
  },
  {
   "cell_type": "code",
   "execution_count": 56,
   "metadata": {
    "collapsed": false
   },
   "outputs": [
    {
     "data": {
      "text/plain": [
       "'center'"
      ]
     },
     "execution_count": 56,
     "metadata": {},
     "output_type": "execute_result"
    }
   ],
   "source": [
    "get_direction(1)"
   ]
  },
  {
   "cell_type": "code",
   "execution_count": 57,
   "metadata": {
    "collapsed": false
   },
   "outputs": [
    {
     "data": {
      "text/plain": [
       "'right'"
      ]
     },
     "execution_count": 57,
     "metadata": {},
     "output_type": "execute_result"
    }
   ],
   "source": [
    "get_direction(2)"
   ]
  },
  {
   "cell_type": "code",
   "execution_count": 58,
   "metadata": {
    "collapsed": false
   },
   "outputs": [
    {
     "data": {
      "text/plain": [
       "'right'"
      ]
     },
     "execution_count": 58,
     "metadata": {},
     "output_type": "execute_result"
    }
   ],
   "source": [
    "get_direction(20)"
   ]
  },
  {
   "cell_type": "code",
   "execution_count": 87,
   "metadata": {
    "collapsed": true
   },
   "outputs": [],
   "source": [
    "def get_direction(direction):\n",
    "    if direction == 0:\n",
    "        text_direction = 'left'\n",
    "    elif direction == 1:\n",
    "        text_direction = 'center'\n",
    "    else:\n",
    "        text_direction = 'right'\n",
    "    return text_direction"
   ]
  },
  {
   "cell_type": "code",
   "execution_count": 81,
   "metadata": {
    "collapsed": false
   },
   "outputs": [
    {
     "data": {
      "text/plain": [
       "'center'"
      ]
     },
     "execution_count": 81,
     "metadata": {},
     "output_type": "execute_result"
    }
   ],
   "source": [
    "get_direction(1)"
   ]
  },
  {
   "cell_type": "code",
   "execution_count": 82,
   "metadata": {
    "collapsed": true
   },
   "outputs": [],
   "source": [
    "a = 1"
   ]
  },
  {
   "cell_type": "code",
   "execution_count": 83,
   "metadata": {
    "collapsed": false
   },
   "outputs": [
    {
     "ename": "AttributeError",
     "evalue": "'int' object has no attribute 'append'",
     "output_type": "error",
     "traceback": [
      "\u001b[0;31m---------------------------------------------------------------------------\u001b[0m",
      "\u001b[0;31mAttributeError\u001b[0m                            Traceback (most recent call last)",
      "\u001b[0;32m<ipython-input-83-a4b67f2efaa2>\u001b[0m in \u001b[0;36m<module>\u001b[0;34m()\u001b[0m\n\u001b[0;32m----> 1\u001b[0;31m \u001b[0ma\u001b[0m\u001b[0;34m.\u001b[0m\u001b[0mappend\u001b[0m\u001b[0;34m(\u001b[0m\u001b[0;36m2\u001b[0m\u001b[0;34m)\u001b[0m\u001b[0;34m\u001b[0m\u001b[0m\n\u001b[0m",
      "\u001b[0;31mAttributeError\u001b[0m: 'int' object has no attribute 'append'"
     ]
    }
   ],
   "source": [
    "a.append(2)"
   ]
  },
  {
   "cell_type": "code",
   "execution_count": 84,
   "metadata": {
    "collapsed": false
   },
   "outputs": [],
   "source": [
    "a = get_direction(2)"
   ]
  },
  {
   "cell_type": "code",
   "execution_count": 85,
   "metadata": {
    "collapsed": false
   },
   "outputs": [],
   "source": [
    "a"
   ]
  },
  {
   "cell_type": "code",
   "execution_count": 86,
   "metadata": {
    "collapsed": false
   },
   "outputs": [
    {
     "name": "stdout",
     "output_type": "stream",
     "text": [
      "we have None\n"
     ]
    }
   ],
   "source": [
    "if a is None:\n",
    "    print(\"we have None\")\n",
    "else:\n",
    "    print(a + ' direction')"
   ]
  },
  {
   "cell_type": "code",
   "execution_count": 88,
   "metadata": {
    "collapsed": true
   },
   "outputs": [],
   "source": [
    "def add_to_box(box, apples):\n",
    "    box.append(apples)"
   ]
  },
  {
   "cell_type": "code",
   "execution_count": 89,
   "metadata": {
    "collapsed": true
   },
   "outputs": [],
   "source": [
    "boxes = []"
   ]
  },
  {
   "cell_type": "code",
   "execution_count": 90,
   "metadata": {
    "collapsed": true
   },
   "outputs": [],
   "source": [
    "add_to_box(boxes, 'apples')"
   ]
  },
  {
   "cell_type": "code",
   "execution_count": 91,
   "metadata": {
    "collapsed": false
   },
   "outputs": [
    {
     "data": {
      "text/plain": [
       "['apples']"
      ]
     },
     "execution_count": 91,
     "metadata": {},
     "output_type": "execute_result"
    }
   ],
   "source": [
    "boxes"
   ]
  },
  {
   "cell_type": "code",
   "execution_count": 92,
   "metadata": {
    "collapsed": true
   },
   "outputs": [],
   "source": [
    "add_to_box(boxes, 'ananas')"
   ]
  },
  {
   "cell_type": "code",
   "execution_count": 93,
   "metadata": {
    "collapsed": false
   },
   "outputs": [
    {
     "data": {
      "text/plain": [
       "['apples', 'ananas']"
      ]
     },
     "execution_count": 93,
     "metadata": {},
     "output_type": "execute_result"
    }
   ],
   "source": [
    "boxes"
   ]
  },
  {
   "cell_type": "code",
   "execution_count": 94,
   "metadata": {
    "collapsed": true
   },
   "outputs": [],
   "source": [
    "def change_apples(apples):\n",
    "    apples = 'ananas'"
   ]
  },
  {
   "cell_type": "code",
   "execution_count": 95,
   "metadata": {
    "collapsed": true
   },
   "outputs": [],
   "source": [
    "change_apples('apple')"
   ]
  },
  {
   "cell_type": "code",
   "execution_count": 96,
   "metadata": {
    "collapsed": false
   },
   "outputs": [
    {
     "data": {
      "text/plain": [
       "['apple1', 'apple2', 'apple3']"
      ]
     },
     "execution_count": 96,
     "metadata": {},
     "output_type": "execute_result"
    }
   ],
   "source": [
    "apples"
   ]
  },
  {
   "cell_type": "code",
   "execution_count": 97,
   "metadata": {
    "collapsed": true
   },
   "outputs": [],
   "source": [
    "new_apples = 'apples'"
   ]
  },
  {
   "cell_type": "code",
   "execution_count": 98,
   "metadata": {
    "collapsed": true
   },
   "outputs": [],
   "source": [
    "change_apples(new_apples)"
   ]
  },
  {
   "cell_type": "code",
   "execution_count": 99,
   "metadata": {
    "collapsed": false
   },
   "outputs": [
    {
     "data": {
      "text/plain": [
       "'apples'"
      ]
     },
     "execution_count": 99,
     "metadata": {},
     "output_type": "execute_result"
    }
   ],
   "source": [
    "new_apples"
   ]
  },
  {
   "cell_type": "code",
   "execution_count": 103,
   "metadata": {
    "collapsed": true
   },
   "outputs": [],
   "source": [
    "def change_apples(apples):\n",
    "    apples += 'ananas'\n",
    "    return apples"
   ]
  },
  {
   "cell_type": "code",
   "execution_count": 104,
   "metadata": {
    "collapsed": true
   },
   "outputs": [],
   "source": [
    "new_apples = change_apples(new_apples)"
   ]
  },
  {
   "cell_type": "code",
   "execution_count": 105,
   "metadata": {
    "collapsed": false
   },
   "outputs": [
    {
     "data": {
      "text/plain": [
       "'ananasananas'"
      ]
     },
     "execution_count": 105,
     "metadata": {},
     "output_type": "execute_result"
    }
   ],
   "source": [
    "new_apples"
   ]
  },
  {
   "cell_type": "code",
   "execution_count": 106,
   "metadata": {
    "collapsed": true
   },
   "outputs": [],
   "source": [
    "new_apples = change_apples(new_apples)"
   ]
  },
  {
   "cell_type": "code",
   "execution_count": 107,
   "metadata": {
    "collapsed": false
   },
   "outputs": [
    {
     "data": {
      "text/plain": [
       "'ananasananasananas'"
      ]
     },
     "execution_count": 107,
     "metadata": {},
     "output_type": "execute_result"
    }
   ],
   "source": [
    "new_apples"
   ]
  },
  {
   "cell_type": "code",
   "execution_count": 108,
   "metadata": {
    "collapsed": true
   },
   "outputs": [],
   "source": [
    "new_ananas = change_apples(new_apples)"
   ]
  },
  {
   "cell_type": "code",
   "execution_count": 109,
   "metadata": {
    "collapsed": false
   },
   "outputs": [
    {
     "data": {
      "text/plain": [
       "'ananasananasananas'"
      ]
     },
     "execution_count": 109,
     "metadata": {},
     "output_type": "execute_result"
    }
   ],
   "source": [
    "new_apples"
   ]
  },
  {
   "cell_type": "code",
   "execution_count": 110,
   "metadata": {
    "collapsed": false
   },
   "outputs": [
    {
     "data": {
      "text/plain": [
       "'ananasananasananasananas'"
      ]
     },
     "execution_count": 110,
     "metadata": {},
     "output_type": "execute_result"
    }
   ],
   "source": [
    "new_ananas"
   ]
  },
  {
   "cell_type": "code",
   "execution_count": 114,
   "metadata": {
    "collapsed": true
   },
   "outputs": [],
   "source": [
    "def print_cats(n):\n",
    "    #if n < 0:\n",
    "    #    return\n",
    "    print('cat #' + str(n))\n",
    "    print_cats(n - 1)"
   ]
  },
  {
   "cell_type": "code",
   "execution_count": 115,
   "metadata": {
    "collapsed": false
   },
   "outputs": [
    {
     "name": "stdout",
     "output_type": "stream",
     "text": [
      "cat #5\n",
      "cat #4\n",
      "cat #3\n",
      "cat #2\n",
      "cat #1\n",
      "cat #0\n",
      "cat #-1\n",
      "cat #-2\n",
      "cat #-3\n",
      "cat #-4\n",
      "cat #-5\n",
      "cat #-6\n",
      "cat #-7\n",
      "cat #-8\n",
      "cat #-9\n",
      "cat #-10\n",
      "cat #-11\n",
      "cat #-12\n",
      "cat #-13\n",
      "cat #-14\n",
      "cat #-15\n",
      "cat #-16\n",
      "cat #-17\n",
      "cat #-18\n",
      "cat #-19\n",
      "cat #-20\n",
      "cat #-21\n",
      "cat #-22\n",
      "cat #-23\n",
      "cat #-24\n",
      "cat #-25\n",
      "cat #-26\n",
      "cat #-27\n",
      "cat #-28\n",
      "cat #-29\n",
      "cat #-30\n",
      "cat #-31\n",
      "cat #-32\n",
      "cat #-33\n",
      "cat #-34\n",
      "cat #-35\n",
      "cat #-36\n",
      "cat #-37\n",
      "cat #-38\n",
      "cat #-39\n",
      "cat #-40\n",
      "cat #-41\n",
      "cat #-42\n",
      "cat #-43\n",
      "cat #-44\n",
      "cat #-45\n",
      "cat #-46\n",
      "cat #-47\n",
      "cat #-48\n",
      "cat #-49\n",
      "cat #-50\n",
      "cat #-51\n",
      "cat #-52\n",
      "cat #-53\n",
      "cat #-54\n",
      "cat #-55\n",
      "cat #-56\n",
      "cat #-57\n",
      "cat #-58\n",
      "cat #-59\n",
      "cat #-60\n",
      "cat #-61\n",
      "cat #-62\n",
      "cat #-63\n",
      "cat #-64\n",
      "cat #-65\n",
      "cat #-66\n",
      "cat #-67\n",
      "cat #-68\n",
      "cat #-69\n",
      "cat #-70\n",
      "cat #-71\n",
      "cat #-72\n",
      "cat #-73\n",
      "cat #-74\n",
      "cat #-75\n",
      "cat #-76\n",
      "cat #-77\n",
      "cat #-78\n",
      "cat #-79\n",
      "cat #-80\n",
      "cat #-81\n",
      "cat #-82\n",
      "cat #-83\n",
      "cat #-84\n",
      "cat #-85\n",
      "cat #-86\n",
      "cat #-87\n",
      "cat #-88\n",
      "cat #-89\n",
      "cat #-90\n",
      "cat #-91\n",
      "cat #-92\n",
      "cat #-93\n",
      "cat #-94\n",
      "cat #-95\n",
      "cat #-96\n",
      "cat #-97\n",
      "cat #-98\n",
      "cat #-99\n",
      "cat #-100\n",
      "cat #-101\n",
      "cat #-102\n",
      "cat #-103\n",
      "cat #-104\n",
      "cat #-105\n",
      "cat #-106\n",
      "cat #-107\n",
      "cat #-108\n",
      "cat #-109\n",
      "cat #-110\n",
      "cat #-111\n",
      "cat #-112\n",
      "cat #-113\n",
      "cat #-114\n",
      "cat #-115\n",
      "cat #-116\n",
      "cat #-117\n",
      "cat #-118\n",
      "cat #-119\n",
      "cat #-120\n",
      "cat #-121\n",
      "cat #-122\n",
      "cat #-123\n",
      "cat #-124\n",
      "cat #-125\n",
      "cat #-126\n",
      "cat #-127\n",
      "cat #-128\n",
      "cat #-129\n",
      "cat #-130\n",
      "cat #-131\n",
      "cat #-132\n",
      "cat #-133\n",
      "cat #-134\n",
      "cat #-135\n",
      "cat #-136\n",
      "cat #-137\n",
      "cat #-138\n",
      "cat #-139\n",
      "cat #-140\n",
      "cat #-141\n",
      "cat #-142\n",
      "cat #-143\n",
      "cat #-144\n",
      "cat #-145\n",
      "cat #-146\n",
      "cat #-147\n",
      "cat #-148\n",
      "cat #-149\n",
      "cat #-150\n",
      "cat #-151\n",
      "cat #-152\n",
      "cat #-153\n",
      "cat #-154\n",
      "cat #-155\n",
      "cat #-156\n",
      "cat #-157\n",
      "cat #-158\n",
      "cat #-159\n",
      "cat #-160\n",
      "cat #-161\n",
      "cat #-162\n",
      "cat #-163\n",
      "cat #-164\n",
      "cat #-165\n",
      "cat #-166\n",
      "cat #-167\n",
      "cat #-168\n",
      "cat #-169\n",
      "cat #-170\n",
      "cat #-171\n",
      "cat #-172\n",
      "cat #-173\n",
      "cat #-174\n",
      "cat #-175\n",
      "cat #-176\n",
      "cat #-177\n",
      "cat #-178\n",
      "cat #-179\n",
      "cat #-180\n",
      "cat #-181\n",
      "cat #-182\n",
      "cat #-183\n",
      "cat #-184\n",
      "cat #-185\n",
      "cat #-186\n",
      "cat #-187\n",
      "cat #-188\n",
      "cat #-189\n",
      "cat #-190\n",
      "cat #-191\n",
      "cat #-192\n",
      "cat #-193\n",
      "cat #-194\n",
      "cat #-195\n",
      "cat #-196\n",
      "cat #-197\n",
      "cat #-198\n",
      "cat #-199\n",
      "cat #-200\n",
      "cat #-201\n",
      "cat #-202\n",
      "cat #-203\n",
      "cat #-204\n",
      "cat #-205\n",
      "cat #-206\n",
      "cat #-207\n",
      "cat #-208\n",
      "cat #-209\n",
      "cat #-210\n",
      "cat #-211\n",
      "cat #-212\n",
      "cat #-213\n",
      "cat #-214\n",
      "cat #-215\n",
      "cat #-216\n",
      "cat #-217\n",
      "cat #-218\n",
      "cat #-219\n",
      "cat #-220\n",
      "cat #-221\n",
      "cat #-222\n",
      "cat #-223\n",
      "cat #-224\n",
      "cat #-225\n",
      "cat #-226\n",
      "cat #-227\n",
      "cat #-228\n",
      "cat #-229\n",
      "cat #-230\n",
      "cat #-231\n",
      "cat #-232\n",
      "cat #-233\n",
      "cat #-234\n",
      "cat #-235\n",
      "cat #-236\n",
      "cat #-237\n",
      "cat #-238\n",
      "cat #-239\n",
      "cat #-240\n",
      "cat #-241\n",
      "cat #-242\n",
      "cat #-243\n",
      "cat #-244\n",
      "cat #-245\n",
      "cat #-246\n",
      "cat #-247\n",
      "cat #-248\n",
      "cat #-249\n",
      "cat #-250\n",
      "cat #-251\n",
      "cat #-252\n",
      "cat #-253\n",
      "cat #-254\n",
      "cat #-255\n",
      "cat #-256\n",
      "cat #-257\n",
      "cat #-258\n",
      "cat #-259\n",
      "cat #-260\n",
      "cat #-261\n",
      "cat #-262\n",
      "cat #-263\n",
      "cat #-264\n",
      "cat #-265\n",
      "cat #-266\n",
      "cat #-267\n",
      "cat #-268\n",
      "cat #-269\n",
      "cat #-270\n",
      "cat #-271\n",
      "cat #-272\n",
      "cat #-273\n",
      "cat #-274\n",
      "cat #-275\n",
      "cat #-276\n",
      "cat #-277\n",
      "cat #-278\n",
      "cat #-279\n",
      "cat #-280\n",
      "cat #-281\n",
      "cat #-282\n",
      "cat #-283\n",
      "cat #-284\n",
      "cat #-285\n",
      "cat #-286\n",
      "cat #-287\n",
      "cat #-288\n",
      "cat #-289\n",
      "cat #-290\n",
      "cat #-291\n",
      "cat #-292\n",
      "cat #-293\n",
      "cat #-294\n",
      "cat #-295\n",
      "cat #-296\n",
      "cat #-297\n",
      "cat #-298\n",
      "cat #-299\n",
      "cat #-300\n",
      "cat #-301\n",
      "cat #-302\n",
      "cat #-303\n",
      "cat #-304\n",
      "cat #-305\n",
      "cat #-306\n",
      "cat #-307\n",
      "cat #-308\n",
      "cat #-309\n",
      "cat #-310\n",
      "cat #-311\n",
      "cat #-312\n",
      "cat #-313\n",
      "cat #-314\n",
      "cat #-315\n",
      "cat #-316\n",
      "cat #-317\n",
      "cat #-318\n",
      "cat #-319\n",
      "cat #-320\n",
      "cat #-321\n",
      "cat #-322\n",
      "cat #-323\n",
      "cat #-324\n",
      "cat #-325\n",
      "cat #-326\n",
      "cat #-327\n",
      "cat #-328\n",
      "cat #-329\n",
      "cat #-330\n",
      "cat #-331\n",
      "cat #-332\n",
      "cat #-333\n",
      "cat #-334\n",
      "cat #-335\n",
      "cat #-336\n",
      "cat #-337\n",
      "cat #-338\n",
      "cat #-339\n",
      "cat #-340\n",
      "cat #-341\n",
      "cat #-342\n",
      "cat #-343\n",
      "cat #-344\n",
      "cat #-345\n",
      "cat #-346\n",
      "cat #-347\n",
      "cat #-348\n",
      "cat #-349\n",
      "cat #-350\n",
      "cat #-351\n",
      "cat #-352\n",
      "cat #-353\n",
      "cat #-354\n",
      "cat #-355\n",
      "cat #-356\n",
      "cat #-357\n",
      "cat #-358\n",
      "cat #-359\n",
      "cat #-360\n",
      "cat #-361\n",
      "cat #-362\n",
      "cat #-363\n",
      "cat #-364\n",
      "cat #-365\n",
      "cat #-366\n",
      "cat #-367\n",
      "cat #-368\n",
      "cat #-369\n",
      "cat #-370\n",
      "cat #-371\n",
      "cat #-372\n",
      "cat #-373\n",
      "cat #-374\n",
      "cat #-375\n",
      "cat #-376\n",
      "cat #-377\n",
      "cat #-378\n",
      "cat #-379\n",
      "cat #-380\n",
      "cat #-381\n",
      "cat #-382\n",
      "cat #-383\n",
      "cat #-384\n",
      "cat #-385\n",
      "cat #-386\n",
      "cat #-387\n",
      "cat #-388\n",
      "cat #-389\n",
      "cat #-390\n",
      "cat #-391\n",
      "cat #-392\n",
      "cat #-393\n",
      "cat #-394\n",
      "cat #-395\n",
      "cat #-396\n",
      "cat #-397\n",
      "cat #-398\n",
      "cat #-399\n",
      "cat #-400\n",
      "cat #-401\n",
      "cat #-402\n",
      "cat #-403\n",
      "cat #-404\n",
      "cat #-405\n",
      "cat #-406\n",
      "cat #-407\n",
      "cat #-408\n",
      "cat #-409\n",
      "cat #-410\n",
      "cat #-411\n",
      "cat #-412\n",
      "cat #-413\n",
      "cat #-414\n",
      "cat #-415\n",
      "cat #-416\n",
      "cat #-417\n",
      "cat #-418\n",
      "cat #-419\n",
      "cat #-420\n",
      "cat #-421\n",
      "cat #-422\n",
      "cat #-423\n",
      "cat #-424\n",
      "cat #-425\n",
      "cat #-426\n",
      "cat #-427\n",
      "cat #-428\n",
      "cat #-429\n",
      "cat #-430\n",
      "cat #-431\n",
      "cat #-432\n",
      "cat #-433\n",
      "cat #-434\n",
      "cat #-435\n",
      "cat #-436\n",
      "cat #-437\n",
      "cat #-438\n",
      "cat #-439\n",
      "cat #-440\n",
      "cat #-441\n",
      "cat #-442\n",
      "cat #-443\n",
      "cat #-444\n",
      "cat #-445\n",
      "cat #-446\n",
      "cat #-447\n",
      "cat #-448\n",
      "cat #-449\n",
      "cat #-450\n",
      "cat #-451\n",
      "cat #-452\n",
      "cat #-453\n",
      "cat #-454\n",
      "cat #-455\n",
      "cat #-456\n",
      "cat #-457\n",
      "cat #-458\n",
      "cat #-459\n",
      "cat #-460\n",
      "cat #-461\n",
      "cat #-462\n",
      "cat #-463\n",
      "cat #-464\n",
      "cat #-465\n",
      "cat #-466\n",
      "cat #-467\n",
      "cat #-468\n",
      "cat #-469\n",
      "cat #-470\n",
      "cat #-471\n",
      "cat #-472\n",
      "cat #-473\n",
      "cat #-474\n",
      "cat #-475\n",
      "cat #-476\n",
      "cat #-477\n",
      "cat #-478\n",
      "cat #-479\n",
      "cat #-480\n",
      "cat #-481\n",
      "cat #-482\n",
      "cat #-483\n",
      "cat #-484\n",
      "cat #-485\n",
      "cat #-486\n",
      "cat #-487\n",
      "cat #-488\n",
      "cat #-489\n",
      "cat #-490\n",
      "cat #-491\n",
      "cat #-492\n",
      "cat #-493\n",
      "cat #-494\n",
      "cat #-495\n",
      "cat #-496\n",
      "cat #-497\n",
      "cat #-498\n",
      "cat #-499\n",
      "cat #-500\n",
      "cat #-501\n",
      "cat #-502\n",
      "cat #-503\n",
      "cat #-504\n",
      "cat #-505\n",
      "cat #-506\n",
      "cat #-507\n",
      "cat #-508\n",
      "cat #-509\n",
      "cat #-510\n",
      "cat #-511\n",
      "cat #-512\n",
      "cat #-513\n",
      "cat #-514\n",
      "cat #-515\n",
      "cat #-516\n",
      "cat #-517\n",
      "cat #-518\n",
      "cat #-519\n",
      "cat #-520\n",
      "cat #-521\n",
      "cat #-522\n",
      "cat #-523\n",
      "cat #-524\n",
      "cat #-525\n",
      "cat #-526\n",
      "cat #-527\n",
      "cat #-528\n",
      "cat #-529\n",
      "cat #-530\n",
      "cat #-531\n",
      "cat #-532\n",
      "cat #-533\n",
      "cat #-534\n",
      "cat #-535\n",
      "cat #-536\n",
      "cat #-537\n",
      "cat #-538\n",
      "cat #-539\n",
      "cat #-540\n",
      "cat #-541\n",
      "cat #-542\n",
      "cat #-543\n",
      "cat #-544\n",
      "cat #-545\n",
      "cat #-546\n",
      "cat #-547\n",
      "cat #-548\n",
      "cat #-549\n",
      "cat #-550\n",
      "cat #-551\n",
      "cat #-552\n",
      "cat #-553\n",
      "cat #-554\n",
      "cat #-555\n",
      "cat #-556\n",
      "cat #-557\n",
      "cat #-558\n",
      "cat #-559\n",
      "cat #-560\n",
      "cat #-561\n",
      "cat #-562\n",
      "cat #-563\n",
      "cat #-564\n",
      "cat #-565\n",
      "cat #-566\n",
      "cat #-567\n",
      "cat #-568\n",
      "cat #-569\n",
      "cat #-570\n",
      "cat #-571\n",
      "cat #-572\n",
      "cat #-573\n",
      "cat #-574\n",
      "cat #-575\n",
      "cat #-576\n",
      "cat #-577\n",
      "cat #-578\n",
      "cat #-579\n",
      "cat #-580\n",
      "cat #-581\n",
      "cat #-582\n",
      "cat #-583\n",
      "cat #-584\n",
      "cat #-585\n",
      "cat #-586\n",
      "cat #-587\n",
      "cat #-588\n",
      "cat #-589\n",
      "cat #-590\n",
      "cat #-591\n",
      "cat #-592\n",
      "cat #-593\n",
      "cat #-594\n",
      "cat #-595\n",
      "cat #-596\n",
      "cat #-597\n",
      "cat #-598\n",
      "cat #-599\n",
      "cat #-600\n",
      "cat #-601\n",
      "cat #-602\n",
      "cat #-603\n",
      "cat #-604\n",
      "cat #-605\n",
      "cat #-606\n",
      "cat #-607\n",
      "cat #-608\n",
      "cat #-609\n",
      "cat #-610\n",
      "cat #-611\n",
      "cat #-612\n",
      "cat #-613\n",
      "cat #-614\n",
      "cat #-615\n",
      "cat #-616\n",
      "cat #-617\n",
      "cat #-618\n",
      "cat #-619\n",
      "cat #-620\n",
      "cat #-621\n",
      "cat #-622\n",
      "cat #-623\n",
      "cat #-624\n",
      "cat #-625\n",
      "cat #-626\n",
      "cat #-627\n",
      "cat #-628\n",
      "cat #-629\n",
      "cat #-630\n",
      "cat #-631\n",
      "cat #-632\n",
      "cat #-633\n",
      "cat #-634\n",
      "cat #-635\n",
      "cat #-636\n",
      "cat #-637\n",
      "cat #-638\n",
      "cat #-639\n",
      "cat #-640\n",
      "cat #-641\n",
      "cat #-642\n",
      "cat #-643\n",
      "cat #-644\n",
      "cat #-645\n",
      "cat #-646\n",
      "cat #-647\n",
      "cat #-648\n",
      "cat #-649\n",
      "cat #-650\n",
      "cat #-651\n",
      "cat #-652\n",
      "cat #-653\n",
      "cat #-654\n",
      "cat #-655\n",
      "cat #-656\n",
      "cat #-657\n",
      "cat #-658\n",
      "cat #-659\n",
      "cat #-660\n",
      "cat #-661\n",
      "cat #-662\n",
      "cat #-663\n",
      "cat #-664\n",
      "cat #-665\n",
      "cat #-666\n",
      "cat #-667\n",
      "cat #-668\n",
      "cat #-669\n",
      "cat #-670\n",
      "cat #-671\n",
      "cat #-672\n",
      "cat #-673\n",
      "cat #-674\n",
      "cat #-675\n",
      "cat #-676\n",
      "cat #-677\n",
      "cat #-678\n",
      "cat #-679\n",
      "cat #-680\n",
      "cat #-681\n",
      "cat #-682\n",
      "cat #-683\n",
      "cat #-684\n",
      "cat #-685\n",
      "cat #-686\n",
      "cat #-687\n",
      "cat #-688\n",
      "cat #-689\n",
      "cat #-690\n",
      "cat #-691\n",
      "cat #-692\n",
      "cat #-693\n",
      "cat #-694\n",
      "cat #-695\n",
      "cat #-696\n",
      "cat #-697\n",
      "cat #-698\n",
      "cat #-699\n",
      "cat #-700\n",
      "cat #-701\n",
      "cat #-702\n",
      "cat #-703\n",
      "cat #-704\n",
      "cat #-705\n",
      "cat #-706\n",
      "cat #-707\n",
      "cat #-708\n",
      "cat #-709\n",
      "cat #-710\n",
      "cat #-711\n",
      "cat #-712\n",
      "cat #-713\n",
      "cat #-714\n",
      "cat #-715\n",
      "cat #-716\n",
      "cat #-717\n",
      "cat #-718\n",
      "cat #-719\n",
      "cat #-720\n",
      "cat #-721\n",
      "cat #-722\n",
      "cat #-723\n",
      "cat #-724\n",
      "cat #-725\n",
      "cat #-726\n",
      "cat #-727\n",
      "cat #-728\n",
      "cat #-729\n",
      "cat #-730\n",
      "cat #-731\n",
      "cat #-732\n",
      "cat #-733\n",
      "cat #-734\n",
      "cat #-735\n",
      "cat #-736\n",
      "cat #-737\n",
      "cat #-738\n",
      "cat #-739\n",
      "cat #-740\n",
      "cat #-741\n",
      "cat #-742\n",
      "cat #-743\n",
      "cat #-744\n",
      "cat #-745\n",
      "cat #-746\n",
      "cat #-747\n",
      "cat #-748\n",
      "cat #-749\n",
      "cat #-750\n",
      "cat #-751\n",
      "cat #-752\n",
      "cat #-753\n",
      "cat #-754\n",
      "cat #-755\n",
      "cat #-756\n",
      "cat #-757\n",
      "cat #-758\n",
      "cat #-759\n",
      "cat #-760\n",
      "cat #-761\n",
      "cat #-762\n",
      "cat #-763\n",
      "cat #-764\n",
      "cat #-765\n",
      "cat #-766\n",
      "cat #-767\n",
      "cat #-768\n",
      "cat #-769\n",
      "cat #-770\n",
      "cat #-771\n",
      "cat #-772\n",
      "cat #-773\n",
      "cat #-774\n",
      "cat #-775\n",
      "cat #-776\n",
      "cat #-777\n",
      "cat #-778\n",
      "cat #-779\n",
      "cat #-780\n",
      "cat #-781\n",
      "cat #-782\n",
      "cat #-783\n",
      "cat #-784\n",
      "cat #-785\n",
      "cat #-786\n",
      "cat #-787\n",
      "cat #-788\n",
      "cat #-789\n",
      "cat #-790\n",
      "cat #-791\n",
      "cat #-792\n",
      "cat #-793\n",
      "cat #-794\n",
      "cat #-795\n",
      "cat #-796\n",
      "cat #-797\n",
      "cat #-798\n",
      "cat #-799\n",
      "cat #-800\n",
      "cat #-801\n",
      "cat #-802\n",
      "cat #-803\n",
      "cat #-804\n",
      "cat #-805\n",
      "cat #-806\n",
      "cat #-807\n",
      "cat #-808\n",
      "cat #-809\n",
      "cat #-810\n",
      "cat #-811\n",
      "cat #-812\n",
      "cat #-813\n",
      "cat #-814\n",
      "cat #-815\n",
      "cat #-816\n",
      "cat #-817\n",
      "cat #-818\n",
      "cat #-819\n",
      "cat #-820\n",
      "cat #-821\n",
      "cat #-822\n",
      "cat #-823\n",
      "cat #-824\n",
      "cat #-825\n",
      "cat #-826\n",
      "cat #-827\n",
      "cat #-828\n",
      "cat #-829\n",
      "cat #-830\n",
      "cat #-831\n",
      "cat #-832\n",
      "cat #-833\n",
      "cat #-834\n",
      "cat #-835\n",
      "cat #-836\n",
      "cat #-837\n",
      "cat #-838\n",
      "cat #-839\n",
      "cat #-840\n",
      "cat #-841\n",
      "cat #-842\n",
      "cat #-843\n",
      "cat #-844\n",
      "cat #-845\n",
      "cat #-846\n",
      "cat #-847\n",
      "cat #-848\n",
      "cat #-849\n",
      "cat #-850\n",
      "cat #-851\n",
      "cat #-852\n",
      "cat #-853\n",
      "cat #-854\n",
      "cat #-855\n",
      "cat #-856\n",
      "cat #-857\n",
      "cat #-858\n",
      "cat #-859\n",
      "cat #-860\n",
      "cat #-861\n",
      "cat #-862\n",
      "cat #-863\n",
      "cat #-864\n",
      "cat #-865\n",
      "cat #-866\n",
      "cat #-867\n",
      "cat #-868\n",
      "cat #-869\n",
      "cat #-870\n",
      "cat #-871\n",
      "cat #-872\n",
      "cat #-873\n",
      "cat #-874\n",
      "cat #-875\n",
      "cat #-876\n",
      "cat #-877\n",
      "cat #-878\n",
      "cat #-879\n",
      "cat #-880\n",
      "cat #-881\n",
      "cat #-882\n",
      "cat #-883\n",
      "cat #-884\n",
      "cat #-885\n",
      "cat #-886\n",
      "cat #-887\n",
      "cat #-888\n",
      "cat #-889\n",
      "cat #-890\n",
      "cat #-891\n",
      "cat #-892\n",
      "cat #-893\n",
      "cat #-894\n",
      "cat #-895\n",
      "cat #-896\n",
      "cat #-897\n",
      "cat #-898\n",
      "cat #-899\n",
      "cat #-900\n",
      "cat #-901\n",
      "cat #-902\n",
      "cat #-903\n",
      "cat #-904\n",
      "cat #-905\n",
      "cat #-906\n",
      "cat #-907\n",
      "cat #-908\n",
      "cat #-909\n",
      "cat #-910\n",
      "cat #-911\n",
      "cat #-912\n",
      "cat #-913\n",
      "cat #-914\n",
      "cat #-915\n",
      "cat #-916\n",
      "cat #-917\n",
      "cat #-918\n",
      "cat #-919\n",
      "cat #-920\n",
      "cat #-921\n",
      "cat #-922\n",
      "cat #-923\n",
      "cat #-924\n",
      "cat #-925\n",
      "cat #-926\n",
      "cat #-927\n",
      "cat #-928\n",
      "cat #-929\n",
      "cat #-930\n",
      "cat #-931\n",
      "cat #-932\n",
      "cat #-933\n",
      "cat #-934\n",
      "cat #-935\n",
      "cat #-936\n",
      "cat #-937\n",
      "cat #-938\n",
      "cat #-939\n",
      "cat #-940\n",
      "cat #-941\n",
      "cat #-942\n",
      "cat #-943\n",
      "cat #-944\n",
      "cat #-945\n",
      "cat #-946\n",
      "cat #-947\n",
      "cat #-948\n",
      "cat #-949\n",
      "cat #-950\n",
      "cat #-951\n",
      "cat #-952\n",
      "cat #-953\n",
      "cat #-954\n",
      "cat #-955\n",
      "cat #-956\n",
      "cat #-957\n",
      "cat #-958\n",
      "cat #-959\n",
      "cat #-960\n",
      "cat #-961\n",
      "cat #-962\n",
      "cat #-963\n"
     ]
    },
    {
     "ename": "RecursionError",
     "evalue": "maximum recursion depth exceeded in comparison",
     "output_type": "error",
     "traceback": [
      "\u001b[0;31m---------------------------------------------------------------------------\u001b[0m",
      "\u001b[0;31mRecursionError\u001b[0m                            Traceback (most recent call last)",
      "\u001b[0;32m<ipython-input-115-d06df94804f5>\u001b[0m in \u001b[0;36m<module>\u001b[0;34m()\u001b[0m\n\u001b[0;32m----> 1\u001b[0;31m \u001b[0mprint_cats\u001b[0m\u001b[0;34m(\u001b[0m\u001b[0;36m5\u001b[0m\u001b[0;34m)\u001b[0m\u001b[0;34m\u001b[0m\u001b[0m\n\u001b[0m",
      "\u001b[0;32m<ipython-input-114-8e822570b78f>\u001b[0m in \u001b[0;36mprint_cats\u001b[0;34m(n)\u001b[0m\n\u001b[1;32m      3\u001b[0m     \u001b[0;31m#    return\u001b[0m\u001b[0;34m\u001b[0m\u001b[0;34m\u001b[0m\u001b[0m\n\u001b[1;32m      4\u001b[0m     \u001b[0mprint\u001b[0m\u001b[0;34m(\u001b[0m\u001b[0;34m'cat #'\u001b[0m \u001b[0;34m+\u001b[0m \u001b[0mstr\u001b[0m\u001b[0;34m(\u001b[0m\u001b[0mn\u001b[0m\u001b[0;34m)\u001b[0m\u001b[0;34m)\u001b[0m\u001b[0;34m\u001b[0m\u001b[0m\n\u001b[0;32m----> 5\u001b[0;31m     \u001b[0mprint_cats\u001b[0m\u001b[0;34m(\u001b[0m\u001b[0mn\u001b[0m \u001b[0;34m-\u001b[0m \u001b[0;36m1\u001b[0m\u001b[0;34m)\u001b[0m\u001b[0;34m\u001b[0m\u001b[0m\n\u001b[0m",
      "... last 1 frames repeated, from the frame below ...\n",
      "\u001b[0;32m<ipython-input-114-8e822570b78f>\u001b[0m in \u001b[0;36mprint_cats\u001b[0;34m(n)\u001b[0m\n\u001b[1;32m      3\u001b[0m     \u001b[0;31m#    return\u001b[0m\u001b[0;34m\u001b[0m\u001b[0;34m\u001b[0m\u001b[0m\n\u001b[1;32m      4\u001b[0m     \u001b[0mprint\u001b[0m\u001b[0;34m(\u001b[0m\u001b[0;34m'cat #'\u001b[0m \u001b[0;34m+\u001b[0m \u001b[0mstr\u001b[0m\u001b[0;34m(\u001b[0m\u001b[0mn\u001b[0m\u001b[0;34m)\u001b[0m\u001b[0;34m)\u001b[0m\u001b[0;34m\u001b[0m\u001b[0m\n\u001b[0;32m----> 5\u001b[0;31m     \u001b[0mprint_cats\u001b[0m\u001b[0;34m(\u001b[0m\u001b[0mn\u001b[0m \u001b[0;34m-\u001b[0m \u001b[0;36m1\u001b[0m\u001b[0;34m)\u001b[0m\u001b[0;34m\u001b[0m\u001b[0m\n\u001b[0m",
      "\u001b[0;31mRecursionError\u001b[0m: maximum recursion depth exceeded in comparison"
     ]
    }
   ],
   "source": [
    "print_cats(5)"
   ]
  },
  {
   "cell_type": "code",
   "execution_count": 118,
   "metadata": {
    "collapsed": true
   },
   "outputs": [],
   "source": [
    "def fib(num):\n",
    "    if num == 0:\n",
    "        return 0\n",
    "    elif num == 1:\n",
    "        return 1\n",
    "    else:\n",
    "        return fib(num - 1) + fib(num - 2)"
   ]
  },
  {
   "cell_type": "code",
   "execution_count": 120,
   "metadata": {
    "collapsed": false
   },
   "outputs": [
    {
     "data": {
      "text/plain": [
       "89"
      ]
     },
     "execution_count": 120,
     "metadata": {},
     "output_type": "execute_result"
    }
   ],
   "source": [
    "fib(11)"
   ]
  },
  {
   "cell_type": "code",
   "execution_count": 121,
   "metadata": {
    "collapsed": true
   },
   "outputs": [],
   "source": [
    "a = lambda x: x * 2"
   ]
  },
  {
   "cell_type": "code",
   "execution_count": 122,
   "metadata": {
    "collapsed": true
   },
   "outputs": [],
   "source": [
    "def a(x):\n",
    "    return x * 2"
   ]
  },
  {
   "cell_type": "code",
   "execution_count": 123,
   "metadata": {
    "collapsed": true
   },
   "outputs": [],
   "source": [
    "a = lambda x: x * 2"
   ]
  },
  {
   "cell_type": "code",
   "execution_count": 124,
   "metadata": {
    "collapsed": false
   },
   "outputs": [
    {
     "data": {
      "text/plain": [
       "4"
      ]
     },
     "execution_count": 124,
     "metadata": {},
     "output_type": "execute_result"
    }
   ],
   "source": [
    "a(2)"
   ]
  },
  {
   "cell_type": "code",
   "execution_count": 125,
   "metadata": {
    "collapsed": true
   },
   "outputs": [],
   "source": [
    "b = a"
   ]
  },
  {
   "cell_type": "code",
   "execution_count": 126,
   "metadata": {
    "collapsed": false
   },
   "outputs": [
    {
     "data": {
      "text/plain": [
       "8"
      ]
     },
     "execution_count": 126,
     "metadata": {},
     "output_type": "execute_result"
    }
   ],
   "source": [
    "b(4)"
   ]
  },
  {
   "cell_type": "code",
   "execution_count": 127,
   "metadata": {
    "collapsed": true
   },
   "outputs": [],
   "source": [
    "new_shiny_fun = fib"
   ]
  },
  {
   "cell_type": "code",
   "execution_count": 129,
   "metadata": {
    "collapsed": false
   },
   "outputs": [
    {
     "data": {
      "text/plain": [
       "21"
      ]
     },
     "execution_count": 129,
     "metadata": {},
     "output_type": "execute_result"
    }
   ],
   "source": [
    "new_shiny_fun(8)"
   ]
  },
  {
   "cell_type": "code",
   "execution_count": 130,
   "metadata": {
    "collapsed": true
   },
   "outputs": [],
   "source": [
    "num_list = [0, 1, 2, 3, 4, 5, 6, 7, 8, 9]"
   ]
  },
  {
   "cell_type": "code",
   "execution_count": 131,
   "metadata": {
    "collapsed": true
   },
   "outputs": [],
   "source": [
    "new_list = [elem for elem in num_list]"
   ]
  },
  {
   "cell_type": "code",
   "execution_count": 132,
   "metadata": {
    "collapsed": false
   },
   "outputs": [
    {
     "data": {
      "text/plain": [
       "[0, 1, 2, 3, 4, 5, 6, 7, 8, 9]"
      ]
     },
     "execution_count": 132,
     "metadata": {},
     "output_type": "execute_result"
    }
   ],
   "source": [
    "new_list"
   ]
  },
  {
   "cell_type": "code",
   "execution_count": 133,
   "metadata": {
    "collapsed": true
   },
   "outputs": [],
   "source": [
    "new_list = [elem for elem in num_list if elem > 4]"
   ]
  },
  {
   "cell_type": "code",
   "execution_count": 134,
   "metadata": {
    "collapsed": false
   },
   "outputs": [
    {
     "data": {
      "text/plain": [
       "[5, 6, 7, 8, 9]"
      ]
     },
     "execution_count": 134,
     "metadata": {},
     "output_type": "execute_result"
    }
   ],
   "source": [
    "new_list"
   ]
  },
  {
   "cell_type": "code",
   "execution_count": 135,
   "metadata": {
    "collapsed": true
   },
   "outputs": [],
   "source": [
    "new_list = []"
   ]
  },
  {
   "cell_type": "code",
   "execution_count": 137,
   "metadata": {
    "collapsed": false
   },
   "outputs": [],
   "source": [
    "for elem in num_list:\n",
    "    if elem > 4:\n",
    "        new_list.append(elem)"
   ]
  },
  {
   "cell_type": "code",
   "execution_count": 138,
   "metadata": {
    "collapsed": false
   },
   "outputs": [
    {
     "data": {
      "text/plain": [
       "[5, 6, 7, 8, 9]"
      ]
     },
     "execution_count": 138,
     "metadata": {},
     "output_type": "execute_result"
    }
   ],
   "source": [
    "new_list"
   ]
  },
  {
   "cell_type": "code",
   "execution_count": 140,
   "metadata": {
    "collapsed": false
   },
   "outputs": [
    {
     "data": {
      "text/plain": [
       "[5, 6, 7, 8, 9]"
      ]
     },
     "execution_count": 140,
     "metadata": {},
     "output_type": "execute_result"
    }
   ],
   "source": [
    "list(filter(lambda x: x > 4, num_list))"
   ]
  },
  {
   "cell_type": "code",
   "execution_count": 152,
   "metadata": {
    "collapsed": true
   },
   "outputs": [],
   "source": [
    "def func(first):\n",
    "    def func2(second):\n",
    "        return first * second\n",
    "\n",
    "    return func2"
   ]
  },
  {
   "cell_type": "code",
   "execution_count": 153,
   "metadata": {
    "collapsed": false
   },
   "outputs": [
    {
     "data": {
      "text/plain": [
       "<function __main__.func.<locals>.func2>"
      ]
     },
     "execution_count": 153,
     "metadata": {},
     "output_type": "execute_result"
    }
   ],
   "source": [
    "func(4)"
   ]
  },
  {
   "cell_type": "code",
   "execution_count": 154,
   "metadata": {
    "collapsed": false
   },
   "outputs": [
    {
     "data": {
      "text/plain": [
       "12"
      ]
     },
     "execution_count": 154,
     "metadata": {},
     "output_type": "execute_result"
    }
   ],
   "source": [
    "func(4)(3)"
   ]
  },
  {
   "cell_type": "code",
   "execution_count": 159,
   "metadata": {
    "collapsed": false
   },
   "outputs": [],
   "source": [
    "five_multiplier = func(5)"
   ]
  },
  {
   "cell_type": "code",
   "execution_count": 160,
   "metadata": {
    "collapsed": false
   },
   "outputs": [
    {
     "data": {
      "text/plain": [
       "20"
      ]
     },
     "execution_count": 160,
     "metadata": {},
     "output_type": "execute_result"
    }
   ],
   "source": [
    "five_multiplier(4)"
   ]
  },
  {
   "cell_type": "code",
   "execution_count": 161,
   "metadata": {
    "collapsed": false
   },
   "outputs": [],
   "source": [
    "four_multiplier = func(4)"
   ]
  },
  {
   "cell_type": "code",
   "execution_count": 162,
   "metadata": {
    "collapsed": false
   },
   "outputs": [
    {
     "data": {
      "text/plain": [
       "16"
      ]
     },
     "execution_count": 162,
     "metadata": {},
     "output_type": "execute_result"
    }
   ],
   "source": [
    "four_multiplier(4)"
   ]
  },
  {
   "cell_type": "code",
   "execution_count": 163,
   "metadata": {
    "collapsed": false
   },
   "outputs": [
    {
     "data": {
      "text/plain": [
       "12"
      ]
     },
     "execution_count": 163,
     "metadata": {},
     "output_type": "execute_result"
    }
   ],
   "source": [
    "func(4)(3)"
   ]
  },
  {
   "cell_type": "code",
   "execution_count": null,
   "metadata": {
    "collapsed": true
   },
   "outputs": [],
   "source": []
  }
 ],
 "metadata": {
  "kernelspec": {
   "display_name": "Python 3",
   "language": "python",
   "name": "python3"
  },
  "language_info": {
   "codemirror_mode": {
    "name": "ipython",
    "version": 3
   },
   "file_extension": ".py",
   "mimetype": "text/x-python",
   "name": "python",
   "nbconvert_exporter": "python",
   "pygments_lexer": "ipython3",
   "version": "3.5.2"
  }
 },
 "nbformat": 4,
 "nbformat_minor": 1
}
